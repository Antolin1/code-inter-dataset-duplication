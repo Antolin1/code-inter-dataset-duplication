{
 "cells": [
  {
   "cell_type": "code",
   "execution_count": 38,
   "id": "660aaf8d",
   "metadata": {},
   "outputs": [],
   "source": [
    "import pandas as pd\n",
    "import sqlite3\n",
    "\n",
    "lang = 'python'\n",
    "conn = sqlite3.connect('interduplication.db')\n",
    "\n",
    "query = f'SELECT id, dataset FROM snippets WHERE language = \"{lang}\"'\n",
    "df = pd.read_sql_query(query, conn)"
   ]
  },
  {
   "cell_type": "code",
   "execution_count": 39,
   "id": "a13cc872",
   "metadata": {},
   "outputs": [],
   "source": [
    "vertices = df.to_records(index=False).tolist()"
   ]
  },
  {
   "cell_type": "code",
   "execution_count": 40,
   "id": "6b554f7d",
   "metadata": {},
   "outputs": [],
   "source": [
    "query = f'SELECT snippet1, snippet2 FROM duplicates'\n",
    "df = pd.read_sql_query(query, conn)"
   ]
  },
  {
   "cell_type": "code",
   "execution_count": 41,
   "id": "61b648de",
   "metadata": {},
   "outputs": [],
   "source": [
    "edges = df.to_records(index=False).tolist()"
   ]
  },
  {
   "cell_type": "code",
   "execution_count": 42,
   "id": "929ba26e",
   "metadata": {},
   "outputs": [],
   "source": [
    "import networkx as nx\n",
    "\n",
    "G = nx.Graph()\n",
    "\n",
    "for x, d in vertices:\n",
    "    G.add_node(x, dataset=d)\n",
    "\n",
    "# add the edges to the graph\n",
    "for edge in edges:\n",
    "    G.add_edge(*edge)"
   ]
  },
  {
   "cell_type": "code",
   "execution_count": 47,
   "id": "021c268b",
   "metadata": {},
   "outputs": [],
   "source": [
    "result = []\n",
    "for n1, n2 in G.edges:\n",
    "    d1 = G.nodes[n1]['dataset']\n",
    "    d2 = G.nodes[n2]['dataset']\n",
    "    if d1 != d2:\n",
    "        if d1 == 'python-150':\n",
    "            result.append(n1)\n",
    "        elif d2 == 'python-150':\n",
    "            result.append(n2)"
   ]
  },
  {
   "cell_type": "code",
   "execution_count": 50,
   "id": "7e54cc8f",
   "metadata": {},
   "outputs": [
    {
     "data": {
      "text/plain": "17787"
     },
     "execution_count": 50,
     "metadata": {},
     "output_type": "execute_result"
    }
   ],
   "source": [
    "len(set(result))"
   ]
  }
 ],
 "metadata": {
  "kernelspec": {
   "display_name": "Python 3 (ipykernel)",
   "language": "python",
   "name": "python3"
  },
  "language_info": {
   "codemirror_mode": {
    "name": "ipython",
    "version": 3
   },
   "file_extension": ".py",
   "mimetype": "text/x-python",
   "name": "python",
   "nbconvert_exporter": "python",
   "pygments_lexer": "ipython3",
   "version": "3.8.16"
  }
 },
 "nbformat": 4,
 "nbformat_minor": 5
}
